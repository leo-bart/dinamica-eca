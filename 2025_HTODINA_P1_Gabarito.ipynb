{
  "nbformat": 4,
  "nbformat_minor": 0,
  "metadata": {
    "colab": {
      "provenance": [],
      "authorship_tag": "ABX9TyOH2JThXYS2Hvx4fDSVXW7S",
      "include_colab_link": true
    },
    "kernelspec": {
      "name": "python3",
      "display_name": "Python 3"
    },
    "language_info": {
      "name": "python"
    }
  },
  "cells": [
    {
      "cell_type": "markdown",
      "metadata": {
        "id": "view-in-github",
        "colab_type": "text"
      },
      "source": [
        "<a href=\"https://colab.research.google.com/github/leo-bart/dinamica-eca/blob/main/2025_HTODINA_P1_Gabarito.ipynb\" target=\"_parent\"><img src=\"https://colab.research.google.com/assets/colab-badge.svg\" alt=\"Open In Colab\"/></a>"
      ]
    },
    {
      "cell_type": "markdown",
      "source": [
        "# Gabarito P1 2025\n",
        "$\\newcommand{\\vector}[1]{\\boldsymbol{#1}}$\n",
        "\n",
        "$\\newcommand{\\I}{\\vector{\\hat{\\imath}}}$\n",
        "$\\newcommand{\\J}{\\vector{\\hat{\\jmath}}}$\n",
        "$\\newcommand{\\ehat}{\\vector{\\hat{e}}}$"
      ],
      "metadata": {
        "id": "ITcywT-Ye5tI"
      }
    },
    {
      "cell_type": "markdown",
      "source": [
        "## Questão 1\n",
        "\n",
        "Admitindo um sistema de coordenadas cartesianas com $\\boldsymbol{\\hat{\\imath}}$ horizontal e $\\boldsymbol{\\hat{\\jmath}}$ vertical:\n",
        "$$\\boldsymbol{V}_m = \\frac{\\Delta\\vector{r}}{\\Delta t} = \\frac{\\Delta x}{\\Delta t}\\I + \\frac{\\Delta y}{\\Delta t}\\J\\,.$$\n",
        "\n",
        "O deslocamento em $x$ ocorre com aceleração constante. Isso significa que o gráfico da velocidade é uma reta e que, portanto, a velocidade média é justamente a médias das velocidades.\n",
        "$$\\frac{\\Delta x}{\\Delta t} = \\frac{v_f+v_0}{2} = 265\\,\\text{km/h}\\,.$$\n",
        "\n",
        "Para a velocidade vertical, observamos que o deslocamento é $\\Delta y = -900\\,\\text{m}$. Com isso,\n",
        "$$\\frac{\\Delta y}{\\Delta t} = \\frac{-0,9\\,\\text{km}}{1/6\\,\\text{h}}=-4,5\\,\\text{km/h}\\,.$$\n",
        "\n",
        "Finalmente, a velocidade média é\n",
        "$$\\boldsymbol{V}_m = \\left(265\\I -4,5\\J\\right)\\text{km/h}\\,.$$"
      ],
      "metadata": {
        "id": "r5qVm-jxe_WL"
      }
    },
    {
      "cell_type": "markdown",
      "source": [
        "#Questão 2\n",
        "\n",
        "Em coordenadas polares, sabemos que\n",
        "$$\\vector{v} = \\dot{r}\\ehat_r + \\omega r \\ehat_\\theta\\,.$$\n",
        "\n",
        "Igualando à função do enunciado,\n",
        "$$\\begin{align}\n",
        "\\dot{r} &= 0,4\\,\\text{m/s}\\,,\\\\\n",
        "\\omega\\,r &= 2\\,\\text{m/s}\\,.\n",
        "\\end{align}$$\n",
        "\n",
        "###Letra a)\n",
        "Integrando a velocidade $\\dot{r}$,\n",
        "$$r(t) = r_0 + \\dot{r}t = \\left(0,2 + 0,4t\\right)\\,\\text{m}\\,.$$\n",
        "\n",
        "###Letra b)\n",
        "A partir dos resultados anteriores, $\\omega = 2t/r$, ou seja,\n",
        "$$\\omega(t) = \\frac{10t}{1+2t}\\,\\text{rad/s}$$"
      ],
      "metadata": {
        "id": "2JgGgGBij_zK"
      }
    },
    {
      "cell_type": "code",
      "source": [
        "import matplotlib.pyplot as plt\n",
        "import numpy as np\n",
        "\n",
        "# Dados\n",
        "x = np.linspace(0, 15, 100)\n",
        "y = 10*x/(1+2*x)\n",
        "\n",
        "# Gráfico\n",
        "fig = plt.figure()\n",
        "plt.plot(x, y)\n",
        "plt.xlabel('t / s')\n",
        "plt.ylabel('$\\omega(t)$ / rad/s')\n",
        "plt.grid()\n",
        "\n",
        "fig.show()"
      ],
      "metadata": {
        "colab": {
          "base_uri": "https://localhost:8080/",
          "height": 449
        },
        "id": "_Z79lD8HmGMH",
        "outputId": "a353c4e3-e291-47d7-83f7-52dfd2ca402f"
      },
      "execution_count": 6,
      "outputs": [
        {
          "output_type": "display_data",
          "data": {
            "text/plain": [
              "<Figure size 640x480 with 1 Axes>"
            ],
            "image/png": "[encoded data removed]"
          },
          "metadata": {}
        }
      ]
    },
    {
      "cell_type": "markdown",
      "source": [
        "#Questão 3\n",
        "\n",
        "Sem perda de generalidade, podemos considerar que $z(0)=0$. Assumiremos, também, que o deslocamento de $B$ é dado pela variável $z_B$, positiva para cima e tal que $z_B(0)=0$ também.\n",
        "\n",
        "Vamos atribuir a cada polia móvel (exceto a ligada em $A$, cuja movimentação já é dada por $z$) uma variável intermediária $z_1$ e $z_2$, para facilitar a dedução da relação entre $z$ e $z_B$.\n",
        "\n",
        "<img src=\"https://drive.google.com/uc?export=view&id=1foU_q1lA1m4JfePERK0MOXqZJtqgPbDh\" width=\"180\">\n",
        "\n",
        "Para a corda que está ligada à massa $A$, o comprimento é dado por\n",
        "$$L_1 = l_{01} - 2z - z_1\\,.$$\n",
        "Como o comprimento deve permanecer constante, $z_1 = -2z$.\n",
        "\n",
        "Similarmente, para a corda que passa ao redor da polia de $z_1$,\n",
        "$$L_2 = l_{02} + 2z_1 - z_2\\,$$\n",
        "e $z_2 = 2z_1$.\n",
        "\n",
        "Finalmente, $z_B = 2z_2$.\n",
        "\n",
        "Combinando as condições anteriores, chegamos em\n",
        "$$z_B = 8z\\,.$$\n",
        "\n",
        "Do enunciado, $\\dot{z}(t) = t/2$, logo $z(t)=t^2/4$ e\n",
        "$$z_B(t) = 2t^2\\,.$$"
      ],
      "metadata": {
        "id": "nlblDLSTwPiq"
      }
    },
    {
      "cell_type": "markdown",
      "source": [
        "#Questão 4\n",
        "\n",
        "Será utilizada como recuperação paralela."
      ],
      "metadata": {
        "id": "L7BMkz49F6qT"
      }
    },
    {
      "cell_type": "markdown",
      "source": [
        "#Questão 5\n",
        "Em primeiro lugar, é importante notar que o comprimento da corda é constante e, por isso, a relação entre o alogamento da mola $x$ (considerado como 0 quando a mola está sem deformação e positivo para cima) e o desloacamento da massa (positivo para cima) $y$ é\n",
        "$$x = 2y$$\n",
        "Estudaremos o movimento entre os instantes 1 (inicial) e 2 (final), ambos com velocidade nula. Assim, a partir do princípio do trabalho-energia (note que $\\vector{g}$ sempre aponta para baixo e que a força elástica é contrária ao deslocamento, por isso os sinais negativos nos integrandos):\n",
        "$$\\begin{align}\n",
        "\\int_{0}^{-4}{-mg\\,dy} + \\int_{-50}^{-50-8}{-kx\\,dx}&=0\\\\\n",
        "-mg(-4) - \\frac{1}{2}k\\left[58^2-50^2\\right]&=0\\\\\n",
        "k = \\frac{8mg}{864} = \\frac{8\\,\\text{mm}(20\\,\\text{kg})10\\,\\text{m/s}^2}{864\\,\\text{mm}^2} &\\approx 1,85\\,\\text{N/mm}\n",
        "\\end{align}$$"
      ],
      "metadata": {
        "id": "kZDg54F2F979"
      }
    }
  ]
}