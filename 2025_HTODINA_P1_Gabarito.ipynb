{
  "nbformat": 4,
  "nbformat_minor": 0,
  "metadata": {
    "colab": {
      "provenance": [],
      "authorship_tag": "ABX9TyOLHp1baf65AdZDe1jDh1F7",
      "include_colab_link": true
    },
    "kernelspec": {
      "name": "python3",
      "display_name": "Python 3"
    },
    "language_info": {
      "name": "python"
    }
  },
  "cells": [
    {
      "cell_type": "markdown",
      "metadata": {
        "id": "view-in-github",
        "colab_type": "text"
      },
      "source": [
        "<a href=\"https://colab.research.google.com/github/leo-bart/dinamica-eca/blob/main/2025_HTODINA_P1_Gabarito.ipynb\" target=\"_parent\"><img src=\"https://colab.research.google.com/assets/colab-badge.svg\" alt=\"Open In Colab\"/></a>"
      ]
    },
    {
      "cell_type": "markdown",
      "source": [
        "# Gabarito P1 2025\n",
        "$\\newcommand{\\vector}[1]{\\boldsymbol{#1}}$\n",
        "\n",
        "$\\newcommand{\\I}{\\vector{\\hat{\\imath}}}$\n",
        "$\\newcommand{\\J}{\\vector{\\hat{\\jmath}}}$\n",
        "$\\newcommand{\\ehat}{\\vector{\\hat{e}}}$"
      ],
      "metadata": {
        "id": "ITcywT-Ye5tI"
      }
    },
    {
      "cell_type": "markdown",
      "source": [
        "## Questão 1\n",
        "\n",
        "Admitindo um sistema de coordenadas cartesianas com $\\boldsymbol{\\hat{\\imath}}$ horizontal e $\\boldsymbol{\\hat{\\jmath}}$ vertical:\n",
        "$$\\boldsymbol{V}_m = \\frac{\\Delta\\vector{r}}{\\Delta t} = \\frac{\\Delta x}{\\Delta t}\\I + \\frac{\\Delta y}{\\Delta t}\\J\\,.$$\n",
        "\n",
        "O deslocamento em $x$ ocorre com aceleração constante. Isso significa que o gráfico da velocidade é uma reta e que, portanto, a velocidade média é justamente a médias das velocidades.\n",
        "$$\\frac{\\Delta x}{\\Delta t} = \\frac{v_f+v_0}{2} = 265\\,\\text{km/h}\\,.$$\n",
        "\n",
        "Para a velocidade vertical, observamos que o deslocamento é $\\Delta y = -900\\,\\text{m}$. Com isso,\n",
        "$$\\frac{\\Delta y}{\\Delta t} = \\frac{-0,9\\,\\text{km}}{1/6\\,\\text{h}}=-4,5\\,\\text{km/h}\\,.$$\n",
        "\n",
        "Finalmente, a velocidade média é\n",
        "$$\\boldsymbol{V}_m = \\left(265\\I -4,5\\J\\right)\\text{km/h}\\,.$$"
      ],
      "metadata": {
        "id": "r5qVm-jxe_WL"
      }
    },
    {
      "cell_type": "markdown",
      "source": [
        "#Questão 2\n",
        "\n",
        "Em coordenadas polares, sabemos que\n",
        "$$\\vector{v} = \\dot{r}\\ehat_r + \\omega r \\ehat_\\theta\\,.$$\n",
        "\n",
        "Igualando à função do enunciado,\n",
        "$$\\begin{align}\n",
        "\\dot{r} &= 0,4\\,\\text{m/s}\\,,\\\\\n",
        "\\omega\\,r &= 2\\,\\text{m/s}\\,.\n",
        "\\end{align}$$\n",
        "\n",
        "###Letra a)\n",
        "Integrando a velocidade $\\dot{r}$,\n",
        "$$r(t) = r_0 + \\dot{r}t = \\left(0,2 + 0,4t\\right)\\,\\text{m}\\,.$$\n",
        "\n",
        "###Letra b)\n",
        "A partir dos resultados anteriores, $\\omega = 2t/r$, ou seja,\n",
        "$$\\omega(t) = \\frac{10t}{1+2t}\\,\\text{rad/s}$$"
      ],
      "metadata": {
        "id": "2JgGgGBij_zK"
      }
    },
    {
      "cell_type": "code",
      "source": [
        "import plotly.express as px\n",
        "import numpy as np\n",
        "\n",
        "# Dados\n",
        "x = np.linspace(0, 15, 100)\n",
        "y = 10*x/(1+2*x)\n",
        "\n",
        "# Gráfico\n",
        "fig = px.line(x=x, y=y, labels={'x': 'tempo/s',\n",
        "                                'y': 'velocidade angular/rad/s'},\n",
        "              title='Velocidade angular')\n",
        "\n",
        "fig.show()"
      ],
      "metadata": {
        "colab": {
          "base_uri": "https://localhost:8080/",
          "height": 542
        },
        "id": "_Z79lD8HmGMH",
        "outputId": "ecee730b-090b-4e8e-b931-71b7d1abce54"
      },
      "execution_count": null,
      "outputs": [
        {
          "output_type": "display_data",
          "data": {
            "text/html": [
              "<html>\n",
              "<head><meta charset=\"utf-8\" /></head>\n",
              "<body>\n",
              "    <div>            <script src=\"https://cdnjs.cloudflare.com/ajax/libs/mathjax/2.7.5/MathJax.js?config=TeX-AMS-MML_SVG\"></script><script type=\"text/javascript\">if (window.MathJax && window.MathJax.Hub && window.MathJax.Hub.Config) {window.MathJax.Hub.Config({SVG: {font: \"STIX-Web\"}});}</script>                <script type=\"text/javascript\">window.PlotlyConfig = {MathJaxConfig: 'local'};</script>\n",
              "        <script charset=\"utf-8\" src=\"https://cdn.plot.ly/plotly-2.35.2.min.js\"></script>                <div id=\"99282cd7-7459-457a-9a05-26db6ae1ac80\" class=\"plotly-graph-div\" style=\"height:525px; width:100%;\"></div>            <script type=\"text/javascript\">                                    window.PLOTLYENV=window.PLOTLYENV || {};                                    if (document.getElementById(\"99282cd7-7459-457a-9a05-26db6ae1ac80\")) {                    Plotly.newPlot(                        \"99282cd7-7459-457a-9a05-26db6ae1ac80\",                        [{\"hovertemplate\":\"tempo\\u002fs=%{x}\\u003cbr\\u003evelocidade angular\\u002frad\\u002fs=%{y}\\u003cextra\\u003e\\u003c\\u002fextra\\u003e\",\"legendgroup\":\"\",\"line\":{\"color\":\"#636efa\",\"dash\":\"solid\"},\"marker\":{\"symbol\":\"circle\"},\"mode\":\"lines\",\"name\":\"\",\"orientation\":\"v\",\"showlegend\":false,\"x\":[0.0,0.15151515151515152,0.30303030303030304,0.4545454545454546,0.6060606060606061,0.7575757575757576,0.9090909090909092,1.0606060606060606,1.2121212121212122,1.3636363636363638,1.5151515151515151,1.6666666666666667,1.8181818181818183,1.9696969696969697,2.121212121212121,2.272727272727273,2.4242424242424243,2.5757575757575757,2.7272727272727275,2.878787878787879,3.0303030303030303,3.181818181818182,3.3333333333333335,3.484848484848485,3.6363636363636367,3.787878787878788,3.9393939393939394,4.090909090909091,4.242424242424242,4.3939393939393945,4.545454545454546,4.696969696969697,4.848484848484849,5.0,5.151515151515151,5.303030303030303,5.454545454545455,5.606060606060606,5.757575757575758,5.909090909090909,6.0606060606060606,6.212121212121212,6.363636363636364,6.515151515151516,6.666666666666667,6.818181818181818,6.96969696969697,7.121212121212121,7.272727272727273,7.424242424242425,7.575757575757576,7.7272727272727275,7.878787878787879,8.030303030303031,8.181818181818182,8.333333333333334,8.484848484848484,8.636363636363637,8.787878787878789,8.93939393939394,9.090909090909092,9.242424242424242,9.393939393939394,9.545454545454545,9.696969696969697,9.84848484848485,10.0,10.151515151515152,10.303030303030303,10.454545454545455,10.606060606060606,10.757575757575758,10.90909090909091,11.06060606060606,11.212121212121213,11.363636363636363,11.515151515151516,11.666666666666668,11.818181818181818,11.96969696969697,12.121212121212121,12.272727272727273,12.424242424242424,12.575757575757576,12.727272727272728,12.878787878787879,13.030303030303031,13.181818181818182,13.333333333333334,13.484848484848484,13.636363636363637,13.787878787878789,13.93939393939394,14.090909090909092,14.242424242424242,14.393939393939394,14.545454545454547,14.696969696969697,14.84848484848485,15.0],\"xaxis\":\"x\",\"y\":[0.0,1.1627906976744187,1.8867924528301887,2.380952380952381,2.7397260273972606,3.0120481927710845,3.2258064516129035,3.3980582524271843,3.5398230088495573,3.6585365853658534,3.7593984962406015,3.846153846153846,3.9215686274509807,3.987730061349693,4.0462427745664735,4.0983606557377055,4.1450777202072535,4.187192118226601,4.225352112676056,4.260089686098655,4.291845493562232,4.320987654320987,4.3478260869565215,4.372623574144487,4.395604395604396,4.41696113074205,4.436860068259385,4.455445544554455,4.472843450479234,4.489164086687307,4.504504504504505,4.518950437317784,4.53257790368272,4.545454545454546,4.557640750670242,4.569190600522194,4.580152671755725,4.590570719602978,4.600484261501211,4.609929078014185,4.618937644341802,4.6275395033860045,4.635761589403973,4.643628509719223,4.651162790697675,4.658385093167702,4.665314401622719,4.671968190854871,4.678362573099415,4.684512428298279,4.690431519699812,4.696132596685084,4.701627486437612,4.706927175843695,4.712041884816753,4.716981132075472,4.721753794266442,4.726368159203981,4.730831973898858,4.735152487961477,4.739336492890995,4.743390357698289,4.747320061255742,4.751131221719457,4.75482912332838,4.758418740849195,4.761904761904762,4.765291607396871,4.768583450210379,4.771784232365145,4.774897680763984,4.77792732166891,4.780876494023904,4.783748361730013,4.786545924967658,4.7892720306513406,4.791929382093317,4.794520547945206,4.797047970479705,4.79951397326853,4.8019207683073235,4.804270462633452,4.8065650644783116,4.808806488991889,4.810996563573883,4.813137032842582,4.8152295632698765,4.8172757475083055,4.819277108433735,4.821235102925244,4.82315112540193,4.825026511134676,4.826862539349423,4.8286604361370715,4.830421377183968,4.832146490335707,4.833836858006042,4.835493519441675,4.8371174728529125,4.838709677419355],\"yaxis\":\"y\",\"type\":\"scatter\"}],                        {\"template\":{\"data\":{\"histogram2dcontour\":[{\"type\":\"histogram2dcontour\",\"colorbar\":{\"outlinewidth\":0,\"ticks\":\"\"},\"colorscale\":[[0.0,\"#0d0887\"],[0.1111111111111111,\"#46039f\"],[0.2222222222222222,\"#7201a8\"],[0.3333333333333333,\"#9c179e\"],[0.4444444444444444,\"#bd3786\"],[0.5555555555555556,\"#d8576b\"],[0.6666666666666666,\"#ed7953\"],[0.7777777777777778,\"#fb9f3a\"],[0.8888888888888888,\"#fdca26\"],[1.0,\"#f0f921\"]]}],\"choropleth\":[{\"type\":\"choropleth\",\"colorbar\":{\"outlinewidth\":0,\"ticks\":\"\"}}],\"histogram2d\":[{\"type\":\"histogram2d\",\"colorbar\":{\"outlinewidth\":0,\"ticks\":\"\"},\"colorscale\":[[0.0,\"#0d0887\"],[0.1111111111111111,\"#46039f\"],[0.2222222222222222,\"#7201a8\"],[0.3333333333333333,\"#9c179e\"],[0.4444444444444444,\"#bd3786\"],[0.5555555555555556,\"#d8576b\"],[0.6666666666666666,\"#ed7953\"],[0.7777777777777778,\"#fb9f3a\"],[0.8888888888888888,\"#fdca26\"],[1.0,\"#f0f921\"]]}],\"heatmap\":[{\"type\":\"heatmap\",\"colorbar\":{\"outlinewidth\":0,\"ticks\":\"\"},\"colorscale\":[[0.0,\"#0d0887\"],[0.1111111111111111,\"#46039f\"],[0.2222222222222222,\"#7201a8\"],[0.3333333333333333,\"#9c179e\"],[0.4444444444444444,\"#bd3786\"],[0.5555555555555556,\"#d8576b\"],[0.6666666666666666,\"#ed7953\"],[0.7777777777777778,\"#fb9f3a\"],[0.8888888888888888,\"#fdca26\"],[1.0,\"#f0f921\"]]}],\"heatmapgl\":[{\"type\":\"heatmapgl\",\"colorbar\":{\"outlinewidth\":0,\"ticks\":\"\"},\"colorscale\":[[0.0,\"#0d0887\"],[0.1111111111111111,\"#46039f\"],[0.2222222222222222,\"#7201a8\"],[0.3333333333333333,\"#9c179e\"],[0.4444444444444444,\"#bd3786\"],[0.5555555555555556,\"#d8576b\"],[0.6666666666666666,\"#ed7953\"],[0.7777777777777778,\"#fb9f3a\"],[0.8888888888888888,\"#fdca26\"],[1.0,\"#f0f921\"]]}],\"contourcarpet\":[{\"type\":\"contourcarpet\",\"colorbar\":{\"outlinewidth\":0,\"ticks\":\"\"}}],\"contour\":[{\"type\":\"contour\",\"colorbar\":{\"outlinewidth\":0,\"ticks\":\"\"},\"colorscale\":[[0.0,\"#0d0887\"],[0.1111111111111111,\"#46039f\"],[0.2222222222222222,\"#7201a8\"],[0.3333333333333333,\"#9c179e\"],[0.4444444444444444,\"#bd3786\"],[0.5555555555555556,\"#d8576b\"],[0.6666666666666666,\"#ed7953\"],[0.7777777777777778,\"#fb9f3a\"],[0.8888888888888888,\"#fdca26\"],[1.0,\"#f0f921\"]]}],\"surface\":[{\"type\":\"surface\",\"colorbar\":{\"outlinewidth\":0,\"ticks\":\"\"},\"colorscale\":[[0.0,\"#0d0887\"],[0.1111111111111111,\"#46039f\"],[0.2222222222222222,\"#7201a8\"],[0.3333333333333333,\"#9c179e\"],[0.4444444444444444,\"#bd3786\"],[0.5555555555555556,\"#d8576b\"],[0.6666666666666666,\"#ed7953\"],[0.7777777777777778,\"#fb9f3a\"],[0.8888888888888888,\"#fdca26\"],[1.0,\"#f0f921\"]]}],\"mesh3d\":[{\"type\":\"mesh3d\",\"colorbar\":{\"outlinewidth\":0,\"ticks\":\"\"}}],\"scatter\":[{\"fillpattern\":{\"fillmode\":\"overlay\",\"size\":10,\"solidity\":0.2},\"type\":\"scatter\"}],\"parcoords\":[{\"type\":\"parcoords\",\"line\":{\"colorbar\":{\"outlinewidth\":0,\"ticks\":\"\"}}}],\"scatterpolargl\":[{\"type\":\"scatterpolargl\",\"marker\":{\"colorbar\":{\"outlinewidth\":0,\"ticks\":\"\"}}}],\"bar\":[{\"error_x\":{\"color\":\"#2a3f5f\"},\"error_y\":{\"color\":\"#2a3f5f\"},\"marker\":{\"line\":{\"color\":\"#E5ECF6\",\"width\":0.5},\"pattern\":{\"fillmode\":\"overlay\",\"size\":10,\"solidity\":0.2}},\"type\":\"bar\"}],\"scattergeo\":[{\"type\":\"scattergeo\",\"marker\":{\"colorbar\":{\"outlinewidth\":0,\"ticks\":\"\"}}}],\"scatterpolar\":[{\"type\":\"scatterpolar\",\"marker\":{\"colorbar\":{\"outlinewidth\":0,\"ticks\":\"\"}}}],\"histogram\":[{\"marker\":{\"pattern\":{\"fillmode\":\"overlay\",\"size\":10,\"solidity\":0.2}},\"type\":\"histogram\"}],\"scattergl\":[{\"type\":\"scattergl\",\"marker\":{\"colorbar\":{\"outlinewidth\":0,\"ticks\":\"\"}}}],\"scatter3d\":[{\"type\":\"scatter3d\",\"line\":{\"colorbar\":{\"outlinewidth\":0,\"ticks\":\"\"}},\"marker\":{\"colorbar\":{\"outlinewidth\":0,\"ticks\":\"\"}}}],\"scattermapbox\":[{\"type\":\"scattermapbox\",\"marker\":{\"colorbar\":{\"outlinewidth\":0,\"ticks\":\"\"}}}],\"scatterternary\":[{\"type\":\"scatterternary\",\"marker\":{\"colorbar\":{\"outlinewidth\":0,\"ticks\":\"\"}}}],\"scattercarpet\":[{\"type\":\"scattercarpet\",\"marker\":{\"colorbar\":{\"outlinewidth\":0,\"ticks\":\"\"}}}],\"carpet\":[{\"aaxis\":{\"endlinecolor\":\"#2a3f5f\",\"gridcolor\":\"white\",\"linecolor\":\"white\",\"minorgridcolor\":\"white\",\"startlinecolor\":\"#2a3f5f\"},\"baxis\":{\"endlinecolor\":\"#2a3f5f\",\"gridcolor\":\"white\",\"linecolor\":\"white\",\"minorgridcolor\":\"white\",\"startlinecolor\":\"#2a3f5f\"},\"type\":\"carpet\"}],\"table\":[{\"cells\":{\"fill\":{\"color\":\"#EBF0F8\"},\"line\":{\"color\":\"white\"}},\"header\":{\"fill\":{\"color\":\"#C8D4E3\"},\"line\":{\"color\":\"white\"}},\"type\":\"table\"}],\"barpolar\":[{\"marker\":{\"line\":{\"color\":\"#E5ECF6\",\"width\":0.5},\"pattern\":{\"fillmode\":\"overlay\",\"size\":10,\"solidity\":0.2}},\"type\":\"barpolar\"}],\"pie\":[{\"automargin\":true,\"type\":\"pie\"}]},\"layout\":{\"autotypenumbers\":\"strict\",\"colorway\":[\"#636efa\",\"#EF553B\",\"#00cc96\",\"#ab63fa\",\"#FFA15A\",\"#19d3f3\",\"#FF6692\",\"#B6E880\",\"#FF97FF\",\"#FECB52\"],\"font\":{\"color\":\"#2a3f5f\"},\"hovermode\":\"closest\",\"hoverlabel\":{\"align\":\"left\"},\"paper_bgcolor\":\"white\",\"plot_bgcolor\":\"#E5ECF6\",\"polar\":{\"bgcolor\":\"#E5ECF6\",\"angularaxis\":{\"gridcolor\":\"white\",\"linecolor\":\"white\",\"ticks\":\"\"},\"radialaxis\":{\"gridcolor\":\"white\",\"linecolor\":\"white\",\"ticks\":\"\"}},\"ternary\":{\"bgcolor\":\"#E5ECF6\",\"aaxis\":{\"gridcolor\":\"white\",\"linecolor\":\"white\",\"ticks\":\"\"},\"baxis\":{\"gridcolor\":\"white\",\"linecolor\":\"white\",\"ticks\":\"\"},\"caxis\":{\"gridcolor\":\"white\",\"linecolor\":\"white\",\"ticks\":\"\"}},\"coloraxis\":{\"colorbar\":{\"outlinewidth\":0,\"ticks\":\"\"}},\"colorscale\":{\"sequential\":[[0.0,\"#0d0887\"],[0.1111111111111111,\"#46039f\"],[0.2222222222222222,\"#7201a8\"],[0.3333333333333333,\"#9c179e\"],[0.4444444444444444,\"#bd3786\"],[0.5555555555555556,\"#d8576b\"],[0.6666666666666666,\"#ed7953\"],[0.7777777777777778,\"#fb9f3a\"],[0.8888888888888888,\"#fdca26\"],[1.0,\"#f0f921\"]],\"sequentialminus\":[[0.0,\"#0d0887\"],[0.1111111111111111,\"#46039f\"],[0.2222222222222222,\"#7201a8\"],[0.3333333333333333,\"#9c179e\"],[0.4444444444444444,\"#bd3786\"],[0.5555555555555556,\"#d8576b\"],[0.6666666666666666,\"#ed7953\"],[0.7777777777777778,\"#fb9f3a\"],[0.8888888888888888,\"#fdca26\"],[1.0,\"#f0f921\"]],\"diverging\":[[0,\"#8e0152\"],[0.1,\"#c51b7d\"],[0.2,\"#de77ae\"],[0.3,\"#f1b6da\"],[0.4,\"#fde0ef\"],[0.5,\"#f7f7f7\"],[0.6,\"#e6f5d0\"],[0.7,\"#b8e186\"],[0.8,\"#7fbc41\"],[0.9,\"#4d9221\"],[1,\"#276419\"]]},\"xaxis\":{\"gridcolor\":\"white\",\"linecolor\":\"white\",\"ticks\":\"\",\"title\":{\"standoff\":15},\"zerolinecolor\":\"white\",\"automargin\":true,\"zerolinewidth\":2},\"yaxis\":{\"gridcolor\":\"white\",\"linecolor\":\"white\",\"ticks\":\"\",\"title\":{\"standoff\":15},\"zerolinecolor\":\"white\",\"automargin\":true,\"zerolinewidth\":2},\"scene\":{\"xaxis\":{\"backgroundcolor\":\"#E5ECF6\",\"gridcolor\":\"white\",\"linecolor\":\"white\",\"showbackground\":true,\"ticks\":\"\",\"zerolinecolor\":\"white\",\"gridwidth\":2},\"yaxis\":{\"backgroundcolor\":\"#E5ECF6\",\"gridcolor\":\"white\",\"linecolor\":\"white\",\"showbackground\":true,\"ticks\":\"\",\"zerolinecolor\":\"white\",\"gridwidth\":2},\"zaxis\":{\"backgroundcolor\":\"#E5ECF6\",\"gridcolor\":\"white\",\"linecolor\":\"white\",\"showbackground\":true,\"ticks\":\"\",\"zerolinecolor\":\"white\",\"gridwidth\":2}},\"shapedefaults\":{\"line\":{\"color\":\"#2a3f5f\"}},\"annotationdefaults\":{\"arrowcolor\":\"#2a3f5f\",\"arrowhead\":0,\"arrowwidth\":1},\"geo\":{\"bgcolor\":\"white\",\"landcolor\":\"#E5ECF6\",\"subunitcolor\":\"white\",\"showland\":true,\"showlakes\":true,\"lakecolor\":\"white\"},\"title\":{\"x\":0.05},\"mapbox\":{\"style\":\"light\"}}},\"xaxis\":{\"anchor\":\"y\",\"domain\":[0.0,1.0],\"title\":{\"text\":\"tempo\\u002fs\"}},\"yaxis\":{\"anchor\":\"x\",\"domain\":[0.0,1.0],\"title\":{\"text\":\"velocidade angular\\u002frad\\u002fs\"}},\"legend\":{\"tracegroupgap\":0},\"title\":{\"text\":\"Velocidade angular\"}},                        {\"responsive\": true}                    ).then(function(){\n",
              "                            \n",
              "var gd = document.getElementById('99282cd7-7459-457a-9a05-26db6ae1ac80');\n",
              "var x = new MutationObserver(function (mutations, observer) {{\n",
              "        var display = window.getComputedStyle(gd).display;\n",
              "        if (!display || display === 'none') {{\n",
              "            console.log([gd, 'removed!']);\n",
              "            Plotly.purge(gd);\n",
              "            observer.disconnect();\n",
              "        }}\n",
              "}});\n",
              "\n",
              "// Listen for the removal of the full notebook cells\n",
              "var notebookContainer = gd.closest('#notebook-container');\n",
              "if (notebookContainer) {{\n",
              "    x.observe(notebookContainer, {childList: true});\n",
              "}}\n",
              "\n",
              "// Listen for the clearing of the current output cell\n",
              "var outputEl = gd.closest('.output');\n",
              "if (outputEl) {{\n",
              "    x.observe(outputEl, {childList: true});\n",
              "}}\n",
              "\n",
              "                        })                };                            </script>        </div>\n",
              "</body>\n",
              "</html>"
            ]
          },
          "metadata": {}
        }
      ]
    },
    {
      "cell_type": "markdown",
      "source": [
        "#Questão 3\n",
        "\n",
        "Sem perda de generalidade, podemos considerar que $z(0)=0$. Assumiremos, também, que o deslocamento de $B$ é dado pela variável $z_B$, positiva para cima e tal que $z_B(0)=0$ também.\n",
        "\n",
        "Vamos atribuir a cada polia móvel (exceto a ligada em $A$, cuja movimentação já é dada por $z$) uma variável intermediária $z_1$ e $z_2$, para facilitar a dedução da relação entre $z$ e $z_B$.\n",
        "\n",
        "<img src=\"https://drive.google.com/uc?export=view&id=1foU_q1lA1m4JfePERK0MOXqZJtqgPbDh\" width=\"180\">\n",
        "\n",
        "Para a corda que está ligada à massa $A$, o comprimento é dado por\n",
        "$$L_1 = l_{01} - 2z - z_1\\,.$$\n",
        "Como o comprimento deve permanecer constante, $z_1 = -2z$.\n",
        "\n",
        "Similarmente, para a corda que passa ao redor da polia de $z_1$,\n",
        "$$L_2 = l_{02} + 2z_1 - z_2\\,$$\n",
        "e $z_2 = 2z_1$.\n",
        "\n",
        "Finalmente, $z_B = 2z_2$.\n",
        "\n",
        "Combinando as condições anteriores, chegamos em\n",
        "$$z_B = 8z\\,.$$\n",
        "\n",
        "Do enunciado, $\\dot{z}(t) = t/2$, logo $z(t)=t^2/4$ e\n",
        "$$z_B(t) = 2t^2\\,.$$"
      ],
      "metadata": {
        "id": "nlblDLSTwPiq"
      }
    },
    {
      "cell_type": "markdown",
      "source": [
        "#Questão 4\n",
        "\n",
        "Será utilizada como recuperação paralela."
      ],
      "metadata": {
        "id": "L7BMkz49F6qT"
      }
    },
    {
      "cell_type": "markdown",
      "source": [
        "#Questão 5\n",
        "Em primeiro lugar, é importante notar que o comprimento da corda é constante e, por isso, a relação entre o alogamento da mola $x$ (considerado como 0 quando a mola está sem deformação e positivo para cima) e o desloacamento da massa (positivo para cima) $y$ é\n",
        "$$x = 2y$$\n",
        "Estudaremos o movimento entre os instantes 1 (inicial) e 2 (final), ambos com velocidade nula. Assim, a partir do princípio do trabalho-energia (note que $\\vector{g}$ sempre aponta para baixo e que a força elástica é contrária ao deslocamento, por isso os sinais negativos nos integrandos):\n",
        "$$\\begin{align}\n",
        "\\int_{0}^{-4}{-mg\\,dy} + \\int_{-50}^{-50-8}{-kx\\,dx}&=0\\\\\n",
        "-mg(-4) - \\frac{1}{2}k\\left[58^2-50^2\\right]&=0\\\\\n",
        "k = \\frac{8mg}{864} = \\frac{8\\,\\text{mm}(20\\,\\text{kg})10\\,\\text{m/s}^2}{864\\,\\text{mm}^2} &\\approx 1,85\\,\\text{N/mm}\n",
        "\\end{align}$$"
      ],
      "metadata": {
        "id": "kZDg54F2F979"
      }
    }
  ]
}